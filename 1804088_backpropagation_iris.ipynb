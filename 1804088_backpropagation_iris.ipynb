{
  "nbformat": 4,
  "nbformat_minor": 0,
  "metadata": {
    "colab": {
      "provenance": [],
      "authorship_tag": "ABX9TyMA5txeHj5AsHx9oDW0wyFk",
      "include_colab_link": true
    },
    "kernelspec": {
      "name": "python3",
      "display_name": "Python 3"
    },
    "language_info": {
      "name": "python"
    }
  },
  "cells": [
    {
      "cell_type": "markdown",
      "metadata": {
        "id": "view-in-github",
        "colab_type": "text"
      },
      "source": [
        "<a href=\"https://colab.research.google.com/github/Zayed-Rahat/ML_Lab_university/blob/main/1804088_backpropagation_iris.ipynb\" target=\"_parent\"><img src=\"https://colab.research.google.com/assets/colab-badge.svg\" alt=\"Open In Colab\"/></a>"
      ]
    },
    {
      "cell_type": "code",
      "execution_count": null,
      "metadata": {
        "id": "e2s792IfDegk"
      },
      "outputs": [],
      "source": [
        "from csv import reader\n",
        "import numpy as np\n",
        "from sklearn.preprocessing import MinMaxScaler\n",
        "import random\n",
        "import matplotlib.pyplot as plt\n",
        "import math"
      ]
    },
    {
      "cell_type": "code",
      "source": [
        "def load_dataset(dataset_path, n_train_data):\n",
        "    dataset = []\n",
        "    label_dict = {'Iris-setosa': 0, 'Iris-versicolor': 1, 'Iris-virginica': 2}\n",
        "    with open(dataset_path, 'r') as file:\n",
        "       # Read the CSV file, separated by commas\n",
        "        csv_reader = reader(file, delimiter=',')\n",
        "        for row in csv_reader:\n",
        "            # convert string type values ​​to float type\n",
        "            row[0:4] = list(map(float, row[0:4]))\n",
        "            # Replace labels with integers\n",
        "            row[4] = label_dict[row[4]]\n",
        "            # Add the processed data to the dataset\n",
        "            dataset.append(row)\n",
        "\n",
        "    # Normalize the data\n",
        "    dataset = np.array(dataset)\n",
        "    mms = MinMaxScaler()\n",
        "    for i in range(dataset.shape[1] - 1):\n",
        "        dataset[:, i] = mms.fit_transform(dataset[:, i].reshape(-1, 1)).flatten()\n",
        "\n",
        "   # Convert the class label to an integer\n",
        "    dataset = dataset.tolist()\n",
        "    for row in dataset:\n",
        "        row[4] = int(row[4])\n",
        "  #  Shuffle the dataset\n",
        "    random.shuffle(dataset)\n",
        "\n",
        "    # Divide training set and validation set\n",
        "    train_data = dataset[0:n_train_data]\n",
        "    val_data = dataset[n_train_data:]\n",
        "\n",
        "    return train_data, val_data"
      ],
      "metadata": {
        "id": "Aj7mU08XEJ97"
      },
      "execution_count": null,
      "outputs": []
    },
    {
      "cell_type": "code",
      "source": [
        "def fun_z(weights, inputs):\n",
        "    \"\"\"Calculate the input of the neuron: z = weight * inputs + b\n",
        "    :param weights: Network parameters (weight matrix and bias term)\n",
        "    :param inputs: the output of neurons in the previous layer\n",
        "    :return: the input of the neuron in the current layer\n",
        "    \"\"\"\n",
        "    bias_term = weights[-1]\n",
        "    z = 0\n",
        "    for i in range(len(weights)-1):\n",
        "        z += weights[i] * inputs[i]\n",
        "    z += bias_term\n",
        "    return z"
      ],
      "metadata": {
        "id": "ou_LyPbaEPBP"
      },
      "execution_count": null,
      "outputs": []
    },
    {
      "cell_type": "code",
      "source": [
        "def sigmoid(z):\n",
        "    \"\"\"Activation function (Sigmoid): f(z) = Sigmoid(z)\n",
        "    :param z: the input of the neuron\n",
        "    :return: the output of the neuron\n",
        "    \"\"\"\n",
        "    return 1.0 / (1.0 + math.exp(-z))\n",
        "\n",
        "\n",
        "def sigmoid_derivative(output):\n",
        "    \"\"\"Sigmoid activation function derivation\n",
        "    :param output: the output value of the activation function\n",
        "    :return: Derivation calculation result\n",
        "    \"\"\"\n",
        "    return output * (1.0 - output)"
      ],
      "metadata": {
        "id": "_D1O9th7FeE1"
      },
      "execution_count": null,
      "outputs": []
    },
    {
      "cell_type": "code",
      "source": [
        "def forward_propagate(network, inputs):\n",
        "    \"\"\"Forward propagation computation\n",
        "    :param network: neural network\n",
        "    :param inputs: a sample data\n",
        "    :return: The result of the forward propagation calculation\n",
        "    \"\"\"\n",
        "    for layer in network:  # Loop through each layer\n",
        "        new_inputs = []\n",
        "        for neuron in layer: # loop through each neuron in each layer\n",
        "            z = fun_z(neuron['weights'], inputs)\n",
        "            neuron['output'] = sigmoid(z)\n",
        "            new_inputs.append(neuron['output'])\n",
        "        inputs = new_inputs\n",
        "    return inputs"
      ],
      "metadata": {
        "id": "o9Evn2WhFgP4"
      },
      "execution_count": null,
      "outputs": []
    },
    {
      "cell_type": "code",
      "source": [
        "\n",
        "def backward_propagate_error(network, actual_label):\n",
        "    \"\"\"error backpropagation\n",
        "    :param network: neural network\n",
        "    :param actual_label: actual label value\n",
        "    :return\n",
        "    \"\"\"\n",
        "    for i in reversed(range(len(network))):  # Calculate the error from the last layer\n",
        "        layer = network[i]\n",
        "        errors = list()\n",
        "        if i != len(network)-1:  # not output layer\n",
        "            for j in range(len(layer)):  # Calculate the error of each neuron\n",
        "                error = 0.0\n",
        "                for neuron in network[i + 1]:\n",
        "                    error += (neuron['weights'][j] * neuron['delta'])\n",
        "                errors.append(error)\n",
        "        else: # output layer\n",
        "            for j in range(len(layer)):  # Calculate the error of each neuron\n",
        "                neuron = layer[j]\n",
        "                errors.append(actual_label[j] - neuron['output'])\n",
        "      # Calculate the error term delta\n",
        "        for j in range(len(layer)):\n",
        "            neuron = layer[j]\n",
        "            neuron['delta'] = errors[j] * sigmoid_derivative(neuron['output'])\n"
      ],
      "metadata": {
        "id": "bNmNMJ_cFi_v"
      },
      "execution_count": null,
      "outputs": []
    },
    {
      "cell_type": "code",
      "source": [
        "\n",
        "def update_parameters(network, row, l_rate):\n",
        "    \"\"\"Use the error to update the parameters of the neural network (weight matrix and bias term)\n",
        "    :param network: neural network\n",
        "    :param row: a sample data\n",
        "    :param l_rate: learning rate\n",
        "    :return:\n",
        "    \"\"\"\n",
        "    for i in range(len(network)):\n",
        "        inputs = row[:-1]\n",
        "        if i != 0: # Get the output of the previous layer network\n",
        "            inputs = [neuron['output'] for neuron in network[i - 1]]\n",
        "        for neuron in network[i]:\n",
        "            # update the weight matrix\n",
        "            for j in range(len(inputs)):\n",
        "                neuron['weights'][j] += l_rate * neuron['delta'] * inputs[j]\n",
        "            # update bias\n",
        "            neuron['weights'][-1] += l_rate * neuron['delta']\n"
      ],
      "metadata": {
        "id": "Zr4DhRvQFmit"
      },
      "execution_count": null,
      "outputs": []
    },
    {
      "cell_type": "code",
      "source": [
        "\n",
        "def initialize_network(n_inputs, n_hidden, n_outputs):\n",
        "    \"\"\"Initialize the BP network (initialize the parameters of the hidden layer and output layer: weight matrix and bias items)\n",
        "    :param n_inputs: number of feature columns\n",
        "    :param n_hidden: the number of neurons in the hidden layer\n",
        "    :param n_outputs: The number of neurons in the output layer, that is, the total number of categories for classification\n",
        "    :return: The initialized neural network\n",
        "    \"\"\"\n",
        "    network = list()\n",
        "   # hidden layer\n",
        "    hidden_layer = [{'weights': [random.random() for i in range(n_inputs + 1)]} for i in range(n_hidden)]\n",
        "    network.append(hidden_layer)\n",
        "    # output layer\n",
        "    output_layer = [{'weights': [random.random() for i in range(n_hidden + 1)]} for i in range(n_outputs)]\n",
        "    network.append(output_layer)\n",
        "    return network\n",
        "\n"
      ],
      "metadata": {
        "id": "cHDAfcEhFpD7"
      },
      "execution_count": null,
      "outputs": []
    },
    {
      "cell_type": "code",
      "source": [
        "\n",
        "def train(train_data, l_rate, epochs, n_hidden, val_data):\n",
        "    \"\"\"Train the neural network (iterate n_epoch rounds)\n",
        "    :param train_data: training set\n",
        "    :param l_rate: learning rate\n",
        "    :param epochs: the number of iterations\n",
        "    :param n_hidden: the number of neurons in the hidden layer\n",
        "    :param val_data: validation set\n",
        "    :return: trained network\n",
        "    \"\"\"\n",
        "    # Get the number of feature columns\n",
        "    n_inputs = len(train_data[0]) - 1\n",
        "    # Get the total number of categories classified\n",
        "    n_outputs = len(set([row[-1] for row in train_data]))\n",
        "    # Initialize the network\n",
        "    network = initialize_network(n_inputs, n_hidden, n_outputs)\n",
        "\n",
        "    acc = []\n",
        "    for epoch in range(epochs):  # Train for epochs rounds\n",
        "        for row in train_data:\n",
        "           # Feedforward calculation\n",
        "            _ = forward_propagate(network, row)\n",
        "            # Process the class label to calculate the error\n",
        "            actual_label = [0 for i in range(n_outputs)]\n",
        "            actual_label[row[-1]] = 1\n",
        "           # Error backpropagation calculation\n",
        "            backward_propagate_error(network, actual_label)\n",
        "            # Update parameters\n",
        "            update_parameters(network, row, l_rate)\n",
        "        # Save the accuracy of the current epoch model on the validation set\n",
        "        # print(acc)\n",
        "        acc.append(validation(network, val_data))\n",
        "    # Plot the change in accuracy of the model on the validation set during training\n",
        "    plt.xlabel('epochs')\n",
        "    plt.ylabel('accuracy')\n",
        "    plt.plot(acc)\n",
        "    plt.show()\n",
        "\n",
        "    return network"
      ],
      "metadata": {
        "id": "Ff4CjlU5Fq6z"
      },
      "execution_count": null,
      "outputs": []
    },
    {
      "cell_type": "code",
      "source": [
        "def validation(network, val_data):\n",
        "    # get prediction class label\n",
        "    predicted_label = []\n",
        "    for row in val_data:\n",
        "        prediction = predict(network, row)\n",
        "        predicted_label.append(prediction)\n",
        "    # Get the actual class label\n",
        "    actual_label = [row[-1] for row in val_data]\n",
        "    # calculate accuracy\n",
        "    accuracy = accuracy_calculation(actual_label, predicted_label)\n",
        "    # print(\"The actual class label of the test set:\", actual_label)\n",
        "    # print(\"Predicted label on test set:\", predicted_label)\n",
        "    return accuracy\n"
      ],
      "metadata": {
        "id": "QlGjKJ0sFtyI"
      },
      "execution_count": null,
      "outputs": []
    },
    {
      "cell_type": "code",
      "source": [
        "def accuracy_calculation(actual_label, predicted_label):\n",
        "    correct_count = 0\n",
        "    for i in range(len(actual_label)):\n",
        "        if actual_label[i] == predicted_label[i]:\n",
        "            correct_count += 1\n",
        "    return correct_count / float(len(actual_label)) * 100.0\n",
        "\n",
        "\n",
        "def predict(network, row):\n",
        "    \"\"\"Use the model to make predictions on the current input data\n",
        "    :param network: neural network\n",
        "    :param row: a data sample\n",
        "    :return: prediction result\n",
        "    \"\"\"\n",
        "    outputs = forward_propagate(network, row)\n",
        "    return outputs.index(max(outputs))"
      ],
      "metadata": {
        "id": "Bxt4a8UAFwQe"
      },
      "execution_count": null,
      "outputs": []
    },
    {
      "cell_type": "markdown",
      "source": [
        "**Predict function takes a trained neural network model and a data sample as input. It uses the forward_propagate function to obtain the output values of the network for the given input, and then it returns the index of the maximum output value as the predicted class or category for the input data sample. This function is typically used to apply the trained neural network to new, unseen data samples for making predictions.**"
      ],
      "metadata": {
        "id": "61byhQkdY4aI"
      }
    },
    {
      "cell_type": "code",
      "source": [
        "file_path = './iris.csv'\n",
        "\n",
        "# parameter settings\n",
        "l_rate = 0.2\n",
        "epochs = 300\n",
        "n_hidden = 4  # The number of neurons in the hidden layer\n",
        "n_train_data = 120  # The size of the training set (a total of 150 data, 130 training sets, 20 validation sets)\n",
        "\n",
        "   # Load the data and divide the training set and validation set\n",
        "train_data, val_data = load_dataset(file_path, n_train_data)\n",
        "   # train the model\n",
        "network = train(train_data, l_rate, epochs, n_hidden, val_data)"
      ],
      "metadata": {
        "colab": {
          "base_uri": "https://localhost:8080/",
          "height": 455
        },
        "id": "2vYFQjDzFzVi",
        "outputId": "4b5f3122-476e-4e3f-f676-6a0e9f1c58d0"
      },
      "execution_count": null,
      "outputs": [
        {
          "output_type": "display_data",
          "data": {
            "text/plain": [
              "<Figure size 640x480 with 1 Axes>"
            ],
            "image/png": "[encoded data removed]"
          },
          "metadata": {}
        }
      ]
    }
  ]
}