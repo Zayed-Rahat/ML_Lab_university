{
  "nbformat": 4,
  "nbformat_minor": 0,
  "metadata": {
    "colab": {
      "provenance": [],
      "authorship_tag": "ABX9TyPlRBrWLAdagI7VcduliPfr",
      "include_colab_link": true
    },
    "kernelspec": {
      "name": "python3",
      "display_name": "Python 3"
    },
    "language_info": {
      "name": "python"
    }
  },
  "cells": [
    {
      "cell_type": "markdown",
      "metadata": {
        "id": "view-in-github",
        "colab_type": "text"
      },
      "source": [
        "<a href=\"https://colab.research.google.com/github/Zayed-Rahat/ML_Lab_university/blob/main/Apriori_Algorithm_scratch.ipynb\" target=\"_parent\"><img src=\"https://colab.research.google.com/assets/colab-badge.svg\" alt=\"Open In Colab\"/></a>"
      ]
    },
    {
      "cell_type": "code",
      "execution_count": null,
      "metadata": {
        "id": "aEAAZ0WZFmpT"
      },
      "outputs": [],
      "source": [
        "import pandas as pd\n",
        "import numpy as np\n",
        "from itertools import combinations"
      ]
    },
    {
      "cell_type": "code",
      "source": [
        "\n",
        "df = pd.read_csv(\"aprior_test.csv\", low_memory=False)"
      ],
      "metadata": {
        "id": "yYgEbBqCMf54"
      },
      "execution_count": null,
      "outputs": []
    },
    {
      "cell_type": "code",
      "source": [
        "df.head()"
      ],
      "metadata": {
        "colab": {
          "base_uri": "https://localhost:8080/",
          "height": 226
        },
        "id": "35Gdh8j6MjRd",
        "outputId": "59d1a2e3-67f5-4d8b-802f-5ee98c80d10c"
      },
      "execution_count": null,
      "outputs": [
        {
          "output_type": "execute_result",
          "data": {
            "text/plain": [
              "  milk bread biscuit cornflakes bournvita  jam maggi  tea coffee cock sugar\n",
              "0    t     t       t        NaN       NaN  NaN   NaN  NaN    NaN  NaN   NaN\n",
              "1    t     t       t          t       NaN  NaN   NaN  NaN    NaN  NaN   NaN\n",
              "2  NaN     t     NaN        NaN         t  NaN   NaN    t    NaN  NaN   NaN\n",
              "3    t     t     NaN        NaN       NaN    t     t  NaN    NaN  NaN   NaN\n",
              "4  NaN   NaN       t        NaN       NaN  NaN     t    t    NaN  NaN   NaN"
            ],
            "text/html": [
              "\n",
              "  <div id=\"df-a8d0d9e2-6288-41d4-9353-512d797642c5\" class=\"colab-df-container\">\n",
              "    <div>\n",
              "<style scoped>\n",
              "    .dataframe tbody tr th:only-of-type {\n",
              "        vertical-align: middle;\n",
              "    }\n",
              "\n",
              "    .dataframe tbody tr th {\n",
              "        vertical-align: top;\n",
              "    }\n",
              "\n",
              "    .dataframe thead th {\n",
              "        text-align: right;\n",
              "    }\n",
              "</style>\n",
              "<table border=\"1\" class=\"dataframe\">\n",
              "  <thead>\n",
              "    <tr style=\"text-align: right;\">\n",
              "      <th></th>\n",
              "      <th>milk</th>\n",
              "      <th>bread</th>\n",
              "      <th>biscuit</th>\n",
              "      <th>cornflakes</th>\n",
              "      <th>bournvita</th>\n",
              "      <th>jam</th>\n",
              "      <th>maggi</th>\n",
              "      <th>tea</th>\n",
              "      <th>coffee</th>\n",
              "      <th>cock</th>\n",
              "      <th>sugar</th>\n",
              "    </tr>\n",
              "  </thead>\n",
              "  <tbody>\n",
              "    <tr>\n",
              "      <th>0</th>\n",
              "      <td>t</td>\n",
              "      <td>t</td>\n",
              "      <td>t</td>\n",
              "      <td>NaN</td>\n",
              "      <td>NaN</td>\n",
              "      <td>NaN</td>\n",
              "      <td>NaN</td>\n",
              "      <td>NaN</td>\n",
              "      <td>NaN</td>\n",
              "      <td>NaN</td>\n",
              "      <td>NaN</td>\n",
              "    </tr>\n",
              "    <tr>\n",
              "      <th>1</th>\n",
              "      <td>t</td>\n",
              "      <td>t</td>\n",
              "      <td>t</td>\n",
              "      <td>t</td>\n",
              "      <td>NaN</td>\n",
              "      <td>NaN</td>\n",
              "      <td>NaN</td>\n",
              "      <td>NaN</td>\n",
              "      <td>NaN</td>\n",
              "      <td>NaN</td>\n",
              "      <td>NaN</td>\n",
              "    </tr>\n",
              "    <tr>\n",
              "      <th>2</th>\n",
              "      <td>NaN</td>\n",
              "      <td>t</td>\n",
              "      <td>NaN</td>\n",
              "      <td>NaN</td>\n",
              "      <td>t</td>\n",
              "      <td>NaN</td>\n",
              "      <td>NaN</td>\n",
              "      <td>t</td>\n",
              "      <td>NaN</td>\n",
              "      <td>NaN</td>\n",
              "      <td>NaN</td>\n",
              "    </tr>\n",
              "    <tr>\n",
              "      <th>3</th>\n",
              "      <td>t</td>\n",
              "      <td>t</td>\n",
              "      <td>NaN</td>\n",
              "      <td>NaN</td>\n",
              "      <td>NaN</td>\n",
              "      <td>t</td>\n",
              "      <td>t</td>\n",
              "      <td>NaN</td>\n",
              "      <td>NaN</td>\n",
              "      <td>NaN</td>\n",
              "      <td>NaN</td>\n",
              "    </tr>\n",
              "    <tr>\n",
              "      <th>4</th>\n",
              "      <td>NaN</td>\n",
              "      <td>NaN</td>\n",
              "      <td>t</td>\n",
              "      <td>NaN</td>\n",
              "      <td>NaN</td>\n",
              "      <td>NaN</td>\n",
              "      <td>t</td>\n",
              "      <td>t</td>\n",
              "      <td>NaN</td>\n",
              "      <td>NaN</td>\n",
              "      <td>NaN</td>\n",
              "    </tr>\n",
              "  </tbody>\n",
              "</table>\n",
              "</div>\n",
              "    <div class=\"colab-df-buttons\">\n",
              "\n",
              "  <div class=\"colab-df-container\">\n",
              "    <button class=\"colab-df-convert\" onclick=\"convertToInteractive('df-a8d0d9e2-6288-41d4-9353-512d797642c5')\"\n",
              "            title=\"Convert this dataframe to an interactive table.\"\n",
              "            style=\"display:none;\">\n",
              "\n",
              "  <svg xmlns=\"http://www.w3.org/2000/svg\" height=\"24px\" viewBox=\"0 -960 960 960\">\n",
              "    <path d=\"M120-120v-720h720v720H120Zm60-500h600v-160H180v160Zm220 220h160v-160H400v160Zm0 220h160v-160H400v160ZM180-400h160v-160H180v160Zm440 0h160v-160H620v160ZM180-180h160v-160H180v160Zm440 0h160v-160H620v160Z\"/>\n",
              "  </svg>\n",
              "    </button>\n",
              "\n",
              "  <style>\n",
              "    .colab-df-container {\n",
              "      display:flex;\n",
              "      gap: 12px;\n",
              "    }\n",
              "\n",
              "    .colab-df-convert {\n",
              "      background-color: #E8F0FE;\n",
              "      border: none;\n",
              "      border-radius: 50%;\n",
              "      cursor: pointer;\n",
              "      display: none;\n",
              "      fill: #1967D2;\n",
              "      height: 32px;\n",
              "      padding: 0 0 0 0;\n",
              "      width: 32px;\n",
              "    }\n",
              "\n",
              "    .colab-df-convert:hover {\n",
              "      background-color: #E2EBFA;\n",
              "      box-shadow: 0px 1px 2px rgba(60, 64, 67, 0.3), 0px 1px 3px 1px rgba(60, 64, 67, 0.15);\n",
              "      fill: #174EA6;\n",
              "    }\n",
              "\n",
              "    .colab-df-buttons div {\n",
              "      margin-bottom: 4px;\n",
              "    }\n",
              "\n",
              "    [theme=dark] .colab-df-convert {\n",
              "      background-color: #3B4455;\n",
              "      fill: #D2E3FC;\n",
              "    }\n",
              "\n",
              "    [theme=dark] .colab-df-convert:hover {\n",
              "      background-color: #434B5C;\n",
              "      box-shadow: 0px 1px 3px 1px rgba(0, 0, 0, 0.15);\n",
              "      filter: drop-shadow(0px 1px 2px rgba(0, 0, 0, 0.3));\n",
              "      fill: #FFFFFF;\n",
              "    }\n",
              "  </style>\n",
              "\n",
              "    <script>\n",
              "      const buttonEl =\n",
              "        document.querySelector('#df-a8d0d9e2-6288-41d4-9353-512d797642c5 button.colab-df-convert');\n",
              "      buttonEl.style.display =\n",
              "        google.colab.kernel.accessAllowed ? 'block' : 'none';\n",
              "\n",
              "      async function convertToInteractive(key) {\n",
              "        const element = document.querySelector('#df-a8d0d9e2-6288-41d4-9353-512d797642c5');\n",
              "        const dataTable =\n",
              "          await google.colab.kernel.invokeFunction('convertToInteractive',\n",
              "                                                    [key], {});\n",
              "        if (!dataTable) return;\n",
              "\n",
              "        const docLinkHtml = 'Like what you see? Visit the ' +\n",
              "          '<a target=\"_blank\" href=https://colab.research.google.com/notebooks/data_table.ipynb>data table notebook</a>'\n",
              "          + ' to learn more about interactive tables.';\n",
              "        element.innerHTML = '';\n",
              "        dataTable['output_type'] = 'display_data';\n",
              "        await google.colab.output.renderOutput(dataTable, element);\n",
              "        const docLink = document.createElement('div');\n",
              "        docLink.innerHTML = docLinkHtml;\n",
              "        element.appendChild(docLink);\n",
              "      }\n",
              "    </script>\n",
              "  </div>\n",
              "\n",
              "\n",
              "<div id=\"df-5fbe95be-b2e7-481c-8668-33a1ef4c9815\">\n",
              "  <button class=\"colab-df-quickchart\" onclick=\"quickchart('df-5fbe95be-b2e7-481c-8668-33a1ef4c9815')\"\n",
              "            title=\"Suggest charts.\"\n",
              "            style=\"display:none;\">\n",
              "\n",
              "<svg xmlns=\"http://www.w3.org/2000/svg\" height=\"24px\"viewBox=\"0 0 24 24\"\n",
              "     width=\"24px\">\n",
              "    <g>\n",
              "        <path d=\"M19 3H5c-1.1 0-2 .9-2 2v14c0 1.1.9 2 2 2h14c1.1 0 2-.9 2-2V5c0-1.1-.9-2-2-2zM9 17H7v-7h2v7zm4 0h-2V7h2v10zm4 0h-2v-4h2v4z\"/>\n",
              "    </g>\n",
              "</svg>\n",
              "  </button>\n",
              "\n",
              "<style>\n",
              "  .colab-df-quickchart {\n",
              "    background-color: #E8F0FE;\n",
              "    border: none;\n",
              "    border-radius: 50%;\n",
              "    cursor: pointer;\n",
              "    display: none;\n",
              "    fill: #1967D2;\n",
              "    height: 32px;\n",
              "    padding: 0 0 0 0;\n",
              "    width: 32px;\n",
              "  }\n",
              "\n",
              "  .colab-df-quickchart:hover {\n",
              "    background-color: #E2EBFA;\n",
              "    box-shadow: 0px 1px 2px rgba(60, 64, 67, 0.3), 0px 1px 3px 1px rgba(60, 64, 67, 0.15);\n",
              "    fill: #174EA6;\n",
              "  }\n",
              "\n",
              "  [theme=dark] .colab-df-quickchart {\n",
              "    background-color: #3B4455;\n",
              "    fill: #D2E3FC;\n",
              "  }\n",
              "\n",
              "  [theme=dark] .colab-df-quickchart:hover {\n",
              "    background-color: #434B5C;\n",
              "    box-shadow: 0px 1px 3px 1px rgba(0, 0, 0, 0.15);\n",
              "    filter: drop-shadow(0px 1px 2px rgba(0, 0, 0, 0.3));\n",
              "    fill: #FFFFFF;\n",
              "  }\n",
              "</style>\n",
              "\n",
              "  <script>\n",
              "    async function quickchart(key) {\n",
              "      const charts = await google.colab.kernel.invokeFunction(\n",
              "          'suggestCharts', [key], {});\n",
              "    }\n",
              "    (() => {\n",
              "      let quickchartButtonEl =\n",
              "        document.querySelector('#df-5fbe95be-b2e7-481c-8668-33a1ef4c9815 button');\n",
              "      quickchartButtonEl.style.display =\n",
              "        google.colab.kernel.accessAllowed ? 'block' : 'none';\n",
              "    })();\n",
              "  </script>\n",
              "</div>\n",
              "    </div>\n",
              "  </div>\n"
            ]
          },
          "metadata": {},
          "execution_count": 5
        }
      ]
    },
    {
      "cell_type": "code",
      "source": [
        "item_list = list(df.columns)\n",
        "item_dict = dict()\n",
        "\n",
        "for i, item in enumerate(item_list):\n",
        "    item_dict[item] = i + 1\n",
        "\n",
        "item_dict"
      ],
      "metadata": {
        "colab": {
          "base_uri": "https://localhost:8080/"
        },
        "id": "e_zuyvTCMk_k",
        "outputId": "47ff3012-747d-4d55-9ec2-f92fb6ead83e"
      },
      "execution_count": null,
      "outputs": [
        {
          "output_type": "execute_result",
          "data": {
            "text/plain": [
              "{'milk': 1,\n",
              " 'bread': 2,\n",
              " 'biscuit': 3,\n",
              " 'cornflakes': 4,\n",
              " 'bournvita': 5,\n",
              " 'jam': 6,\n",
              " 'maggi': 7,\n",
              " 'tea': 8,\n",
              " 'coffee': 9,\n",
              " 'cock': 10,\n",
              " 'sugar': 11}"
            ]
          },
          "metadata": {},
          "execution_count": 6
        }
      ]
    },
    {
      "cell_type": "markdown",
      "source": [
        "**Extracting the transactions from the data.**"
      ],
      "metadata": {
        "id": "h0gepghwNE50"
      }
    },
    {
      "cell_type": "code",
      "source": [
        "transactions = []\n",
        "\n",
        "for i, row in df.iterrows():\n",
        "    transaction = set()\n",
        "\n",
        "    for item in item_dict:\n",
        "        if row[item] == 't':\n",
        "            transaction.add(item_dict[item])\n",
        "    transactions.append(transaction)\n",
        "\n",
        "transactions"
      ],
      "metadata": {
        "colab": {
          "base_uri": "https://localhost:8080/"
        },
        "id": "9a6DiFZ2MuOW",
        "outputId": "ea90d402-8f0e-4999-d228-c811c2c004cd"
      },
      "execution_count": null,
      "outputs": [
        {
          "output_type": "execute_result",
          "data": {
            "text/plain": [
              "[{1, 2, 3},\n",
              " {1, 2, 3, 4},\n",
              " {2, 5, 8},\n",
              " {1, 2, 6, 7},\n",
              " {3, 7, 8},\n",
              " {2, 5, 8},\n",
              " {4, 7, 8},\n",
              " {2, 3, 7, 8},\n",
              " {2, 6, 7, 8},\n",
              " {1, 2},\n",
              " {3, 4, 9, 10},\n",
              " {3, 4, 9, 10},\n",
              " {5, 9, 11},\n",
              " {2, 9, 10},\n",
              " {2, 3, 11},\n",
              " {4, 9, 11},\n",
              " {2, 5, 11},\n",
              " {2, 9, 11},\n",
              " {2, 9, 11},\n",
              " {1, 4, 8, 9}]"
            ]
          },
          "metadata": {},
          "execution_count": 7
        }
      ]
    },
    {
      "cell_type": "markdown",
      "source": [
        "\n",
        "Utility Functions"
      ],
      "metadata": {
        "id": "X_yalgSjNv0s"
      }
    },
    {
      "cell_type": "code",
      "source": [
        "def get_support(transactions, item_set):\n",
        "    match_count = 0\n",
        "    for transaction in transactions:\n",
        "        if item_set.issubset(transaction):\n",
        "            match_count += 1\n",
        "\n",
        "    return float(match_count/len(transactions))"
      ],
      "metadata": {
        "id": "lheKK0wMN12k"
      },
      "execution_count": null,
      "outputs": []
    },
    {
      "cell_type": "markdown",
      "source": [
        "self_join performs join based on the last level valid sets. It joins each sets together by performing union and if the length exceeds the current level, it will skip that set."
      ],
      "metadata": {
        "id": "dvG9kpZQN88z"
      }
    },
    {
      "cell_type": "code",
      "source": [
        "def self_join(frequent_item_sets_per_level, level):\n",
        "    current_level_candidates = list()\n",
        "    last_level_items = frequent_item_sets_per_level[level - 1]\n",
        "\n",
        "    if len(last_level_items) == 0:\n",
        "        return current_level_candidates\n",
        "\n",
        "    for i in range(len(last_level_items)):\n",
        "        for j in range(i+1, len(last_level_items)):\n",
        "            itemset_i = last_level_items[i][0]\n",
        "            itemset_j = last_level_items[j][0]\n",
        "            union_set = itemset_i.union(itemset_j)\n",
        "\n",
        "            if union_set not in current_level_candidates and len(union_set) == level:\n",
        "                current_level_candidates.append(union_set)\n",
        "\n",
        "    return current_level_candidates"
      ],
      "metadata": {
        "id": "pgHwHhiCN4fk"
      },
      "execution_count": null,
      "outputs": []
    },
    {
      "cell_type": "markdown",
      "source": [
        "\n",
        "pruning function prunes the candidate sets evaluated after completing the self-join part. For each itemset, it finds all its subsets by dropping a single elements from it and checks if that subset was present in the previous level or not. If that subset was not present in the previous level, then the current set is not valid and must not be used, and is thus pruned."
      ],
      "metadata": {
        "id": "d8K7vJ5MOUTL"
      }
    },
    {
      "cell_type": "code",
      "source": [
        "def get_single_drop_subsets(item_set):\n",
        "    single_drop_subsets = list()\n",
        "    for item in item_set:\n",
        "        temp = item_set.copy()\n",
        "        temp.remove(item)\n",
        "        single_drop_subsets.append(temp)\n",
        "\n",
        "    return single_drop_subsets\n",
        "\n",
        "def is_valid_set(item_set, prev_level_sets):\n",
        "    single_drop_subsets = get_single_drop_subsets(item_set)\n",
        "\n",
        "    for single_drop_set in single_drop_subsets:\n",
        "        if single_drop_set not in prev_level_sets:\n",
        "            return False\n",
        "    return True\n",
        "\n",
        "def pruning(frequent_item_sets_per_level, level, candidate_set):\n",
        "    post_pruning_set = list()\n",
        "    if len(candidate_set) == 0:\n",
        "        return post_pruning_set\n",
        "\n",
        "    prev_level_sets = list()\n",
        "    for item_set, _ in frequent_item_sets_per_level[level - 1]:\n",
        "        prev_level_sets.append(item_set)\n",
        "\n",
        "    for item_set in candidate_set:\n",
        "        if is_valid_set(item_set, prev_level_sets):\n",
        "            post_pruning_set.append(item_set)\n",
        "\n",
        "    return post_pruning_set"
      ],
      "metadata": {
        "id": "Avdi9u_lOAS3"
      },
      "execution_count": null,
      "outputs": []
    },
    {
      "cell_type": "markdown",
      "source": [
        "\n",
        "Apriori Algorithm"
      ],
      "metadata": {
        "id": "PBM6NGOWOZnU"
      }
    },
    {
      "cell_type": "code",
      "source": [
        "from collections import defaultdict\n",
        "\n",
        "def apriori(min_support):\n",
        "    frequent_item_sets_per_level = defaultdict(list)\n",
        "    print(\"level : 1\", end = \" \")\n",
        "\n",
        "    for item in range(1, len(item_list) + 1):\n",
        "        support = get_support(transactions, {item})\n",
        "        if support >= min_support:\n",
        "            frequent_item_sets_per_level[1].append(({item}, support))\n",
        "\n",
        "    for level in range(2, len(item_list) + 1):\n",
        "        print(level, end = \" \")\n",
        "        current_level_candidates = self_join(frequent_item_sets_per_level, level)\n",
        "\n",
        "        post_pruning_candidates = pruning(frequent_item_sets_per_level, level, current_level_candidates)\n",
        "        if len(post_pruning_candidates) == 0:\n",
        "            break\n",
        "\n",
        "        for item_set in post_pruning_candidates:\n",
        "            support = get_support(transactions, item_set)\n",
        "            if support >= min_support:\n",
        "                frequent_item_sets_per_level[level].append((item_set, support))\n",
        "\n",
        "    return frequent_item_sets_per_level"
      ],
      "metadata": {
        "id": "qvopvw1dOX6V"
      },
      "execution_count": null,
      "outputs": []
    },
    {
      "cell_type": "code",
      "source": [
        "min_support = 0.005\n",
        "frequent_item_sets_per_level = apriori(min_support)"
      ],
      "metadata": {
        "colab": {
          "base_uri": "https://localhost:8080/"
        },
        "id": "9fg8hjK4Of7O",
        "outputId": "114c1a63-5669-4d0e-f771-12b072fde340"
      },
      "execution_count": null,
      "outputs": [
        {
          "output_type": "stream",
          "name": "stdout",
          "text": [
            "level : 1 2 3 4 5 "
          ]
        }
      ]
    },
    {
      "cell_type": "code",
      "source": [
        "for level in frequent_item_sets_per_level:\n",
        "    print(len(frequent_item_sets_per_level[level]))"
      ],
      "metadata": {
        "colab": {
          "base_uri": "https://localhost:8080/"
        },
        "id": "oe9i0VLLOjPx",
        "outputId": "04fdc765-ad8e-43d8-a3c1-d10e9d77852c"
      },
      "execution_count": null,
      "outputs": [
        {
          "output_type": "stream",
          "name": "stdout",
          "text": [
            "11\n",
            "36\n",
            "30\n",
            "6\n"
          ]
        }
      ]
    },
    {
      "cell_type": "code",
      "source": [
        "for level in frequent_item_sets_per_level:\n",
        "    print(frequent_item_sets_per_level[level])"
      ],
      "metadata": {
        "colab": {
          "base_uri": "https://localhost:8080/"
        },
        "id": "keZLKzSPOzgz",
        "outputId": "54276c97-9572-48ac-ebab-aa0ec9860c21"
      },
      "execution_count": null,
      "outputs": [
        {
          "output_type": "stream",
          "name": "stdout",
          "text": [
            "[({1}, 0.25), ({2}, 0.65), ({3}, 0.35), ({4}, 0.3), ({5}, 0.2), ({6}, 0.1), ({7}, 0.25), ({8}, 0.35), ({9}, 0.4), ({10}, 0.15), ({11}, 0.3)]\n",
            "[({1, 2}, 0.2), ({1, 3}, 0.1), ({1, 4}, 0.1), ({1, 6}, 0.05), ({1, 7}, 0.05), ({8, 1}, 0.05), ({1, 9}, 0.05), ({2, 3}, 0.2), ({2, 4}, 0.05), ({2, 5}, 0.15), ({2, 6}, 0.1), ({2, 7}, 0.15), ({8, 2}, 0.2), ({9, 2}, 0.15), ({2, 10}, 0.05), ({2, 11}, 0.2), ({3, 4}, 0.15), ({3, 7}, 0.1), ({8, 3}, 0.1), ({9, 3}, 0.1), ({10, 3}, 0.1), ({11, 3}, 0.05), ({4, 7}, 0.05), ({8, 4}, 0.1), ({9, 4}, 0.2), ({10, 4}, 0.1), ({11, 4}, 0.05), ({8, 5}, 0.1), ({9, 5}, 0.05), ({11, 5}, 0.1), ({6, 7}, 0.1), ({8, 6}, 0.05), ({8, 7}, 0.2), ({8, 9}, 0.05), ({9, 10}, 0.15), ({9, 11}, 0.2)]\n",
            "[({1, 2, 3}, 0.1), ({1, 2, 4}, 0.05), ({1, 2, 6}, 0.05), ({1, 2, 7}, 0.05), ({1, 3, 4}, 0.05), ({8, 1, 4}, 0.05), ({1, 4, 9}, 0.05), ({1, 6, 7}, 0.05), ({8, 1, 9}, 0.05), ({2, 3, 4}, 0.05), ({2, 3, 7}, 0.05), ({8, 2, 3}, 0.05), ({11, 2, 3}, 0.05), ({8, 2, 5}, 0.1), ({2, 11, 5}, 0.05), ({2, 6, 7}, 0.1), ({8, 2, 6}, 0.05), ({8, 2, 7}, 0.1), ({9, 2, 10}, 0.05), ({9, 2, 11}, 0.1), ({9, 3, 4}, 0.1), ({10, 3, 4}, 0.1), ({8, 3, 7}, 0.1), ({9, 10, 3}, 0.1), ({8, 4, 7}, 0.05), ({8, 9, 4}, 0.05), ({9, 10, 4}, 0.1), ({9, 11, 4}, 0.05), ({9, 11, 5}, 0.05), ({8, 6, 7}, 0.05)]\n",
            "[({1, 2, 3, 4}, 0.05), ({1, 2, 6, 7}, 0.05), ({1, 4, 8, 9}, 0.05), ({2, 3, 7, 8}, 0.05), ({2, 6, 7, 8}, 0.05), ({3, 4, 9, 10}, 0.1)]\n"
          ]
        }
      ]
    },
    {
      "cell_type": "markdown",
      "source": [
        "**Support Count**"
      ],
      "metadata": {
        "id": "MAetSBPdSHRN"
      }
    },
    {
      "cell_type": "code",
      "source": [
        "item_support_dict = dict()\n",
        "item_list = list()\n",
        "\n",
        "key_list = list(item_dict.keys())\n",
        "val_list = list(item_dict.values())\n",
        "\n",
        "for level in frequent_item_sets_per_level:\n",
        "    for set_support_pair in frequent_item_sets_per_level[level]:\n",
        "        for i in set_support_pair[0]:\n",
        "            item_list.append(key_list[val_list.index(i)])\n",
        "        item_support_dict[frozenset(item_list)] = set_support_pair[1]\n",
        "        item_list = list()"
      ],
      "metadata": {
        "id": "mOv28PhnO66J"
      },
      "execution_count": null,
      "outputs": []
    },
    {
      "cell_type": "code",
      "source": [
        "item_support_dict"
      ],
      "metadata": {
        "colab": {
          "base_uri": "https://localhost:8080/"
        },
        "id": "LHfm-CJSO_fi",
        "outputId": "456115ca-6438-402c-9a9c-9de0e5e2feac"
      },
      "execution_count": null,
      "outputs": [
        {
          "output_type": "execute_result",
          "data": {
            "text/plain": [
              "{frozenset({'milk'}): 0.25,\n",
              " frozenset({'bread'}): 0.65,\n",
              " frozenset({'biscuit'}): 0.35,\n",
              " frozenset({'cornflakes'}): 0.3,\n",
              " frozenset({'bournvita'}): 0.2,\n",
              " frozenset({'jam'}): 0.1,\n",
              " frozenset({'maggi'}): 0.25,\n",
              " frozenset({'tea'}): 0.35,\n",
              " frozenset({'coffee'}): 0.4,\n",
              " frozenset({'cock'}): 0.15,\n",
              " frozenset({'sugar'}): 0.3,\n",
              " frozenset({'bread', 'milk'}): 0.2,\n",
              " frozenset({'biscuit', 'milk'}): 0.1,\n",
              " frozenset({'cornflakes', 'milk'}): 0.1,\n",
              " frozenset({'jam', 'milk'}): 0.05,\n",
              " frozenset({'maggi', 'milk'}): 0.05,\n",
              " frozenset({'milk', 'tea'}): 0.05,\n",
              " frozenset({'coffee', 'milk'}): 0.05,\n",
              " frozenset({'biscuit', 'bread'}): 0.2,\n",
              " frozenset({'bread', 'cornflakes'}): 0.05,\n",
              " frozenset({'bournvita', 'bread'}): 0.15,\n",
              " frozenset({'bread', 'jam'}): 0.1,\n",
              " frozenset({'bread', 'maggi'}): 0.15,\n",
              " frozenset({'bread', 'tea'}): 0.2,\n",
              " frozenset({'bread', 'coffee'}): 0.15,\n",
              " frozenset({'bread', 'cock'}): 0.05,\n",
              " frozenset({'bread', 'sugar'}): 0.2,\n",
              " frozenset({'biscuit', 'cornflakes'}): 0.15,\n",
              " frozenset({'biscuit', 'maggi'}): 0.1,\n",
              " frozenset({'biscuit', 'tea'}): 0.1,\n",
              " frozenset({'biscuit', 'coffee'}): 0.1,\n",
              " frozenset({'biscuit', 'cock'}): 0.1,\n",
              " frozenset({'biscuit', 'sugar'}): 0.05,\n",
              " frozenset({'cornflakes', 'maggi'}): 0.05,\n",
              " frozenset({'cornflakes', 'tea'}): 0.1,\n",
              " frozenset({'coffee', 'cornflakes'}): 0.2,\n",
              " frozenset({'cock', 'cornflakes'}): 0.1,\n",
              " frozenset({'cornflakes', 'sugar'}): 0.05,\n",
              " frozenset({'bournvita', 'tea'}): 0.1,\n",
              " frozenset({'bournvita', 'coffee'}): 0.05,\n",
              " frozenset({'bournvita', 'sugar'}): 0.1,\n",
              " frozenset({'jam', 'maggi'}): 0.1,\n",
              " frozenset({'jam', 'tea'}): 0.05,\n",
              " frozenset({'maggi', 'tea'}): 0.2,\n",
              " frozenset({'coffee', 'tea'}): 0.05,\n",
              " frozenset({'cock', 'coffee'}): 0.15,\n",
              " frozenset({'coffee', 'sugar'}): 0.2,\n",
              " frozenset({'biscuit', 'bread', 'milk'}): 0.1,\n",
              " frozenset({'bread', 'cornflakes', 'milk'}): 0.05,\n",
              " frozenset({'bread', 'jam', 'milk'}): 0.05,\n",
              " frozenset({'bread', 'maggi', 'milk'}): 0.05,\n",
              " frozenset({'biscuit', 'cornflakes', 'milk'}): 0.05,\n",
              " frozenset({'cornflakes', 'milk', 'tea'}): 0.05,\n",
              " frozenset({'coffee', 'cornflakes', 'milk'}): 0.05,\n",
              " frozenset({'jam', 'maggi', 'milk'}): 0.05,\n",
              " frozenset({'coffee', 'milk', 'tea'}): 0.05,\n",
              " frozenset({'biscuit', 'bread', 'cornflakes'}): 0.05,\n",
              " frozenset({'biscuit', 'bread', 'maggi'}): 0.05,\n",
              " frozenset({'biscuit', 'bread', 'tea'}): 0.05,\n",
              " frozenset({'biscuit', 'bread', 'sugar'}): 0.05,\n",
              " frozenset({'bournvita', 'bread', 'tea'}): 0.1,\n",
              " frozenset({'bournvita', 'bread', 'sugar'}): 0.05,\n",
              " frozenset({'bread', 'jam', 'maggi'}): 0.1,\n",
              " frozenset({'bread', 'jam', 'tea'}): 0.05,\n",
              " frozenset({'bread', 'maggi', 'tea'}): 0.1,\n",
              " frozenset({'bread', 'cock', 'coffee'}): 0.05,\n",
              " frozenset({'bread', 'coffee', 'sugar'}): 0.1,\n",
              " frozenset({'biscuit', 'coffee', 'cornflakes'}): 0.1,\n",
              " frozenset({'biscuit', 'cock', 'cornflakes'}): 0.1,\n",
              " frozenset({'biscuit', 'maggi', 'tea'}): 0.1,\n",
              " frozenset({'biscuit', 'cock', 'coffee'}): 0.1,\n",
              " frozenset({'cornflakes', 'maggi', 'tea'}): 0.05,\n",
              " frozenset({'coffee', 'cornflakes', 'tea'}): 0.05,\n",
              " frozenset({'cock', 'coffee', 'cornflakes'}): 0.1,\n",
              " frozenset({'coffee', 'cornflakes', 'sugar'}): 0.05,\n",
              " frozenset({'bournvita', 'coffee', 'sugar'}): 0.05,\n",
              " frozenset({'jam', 'maggi', 'tea'}): 0.05,\n",
              " frozenset({'biscuit', 'bread', 'cornflakes', 'milk'}): 0.05,\n",
              " frozenset({'bread', 'jam', 'maggi', 'milk'}): 0.05,\n",
              " frozenset({'coffee', 'cornflakes', 'milk', 'tea'}): 0.05,\n",
              " frozenset({'biscuit', 'bread', 'maggi', 'tea'}): 0.05,\n",
              " frozenset({'bread', 'jam', 'maggi', 'tea'}): 0.05,\n",
              " frozenset({'biscuit', 'cock', 'coffee', 'cornflakes'}): 0.1}"
            ]
          },
          "metadata": {},
          "execution_count": 16
        }
      ]
    },
    {
      "cell_type": "code",
      "source": [
        "def find_subset(item, item_length):\n",
        "    combs = []\n",
        "    for i in range(1, item_length + 1):\n",
        "        combs.append(list(combinations(item, i)))\n",
        "\n",
        "    subsets = []\n",
        "    for comb in combs:\n",
        "        for elt in comb:\n",
        "            subsets.append(elt)\n",
        "\n",
        "    return subsets"
      ],
      "metadata": {
        "id": "_AJKWTWMPCb_"
      },
      "execution_count": null,
      "outputs": []
    },
    {
      "cell_type": "markdown",
      "source": [
        "**Association Rules**"
      ],
      "metadata": {
        "id": "YiKeQ3XaSe2J"
      }
    },
    {
      "cell_type": "code",
      "source": [
        "def association_rules(min_confidence, support_dict):\n",
        "    rules = list()\n",
        "    for item, support in support_dict.items():\n",
        "        item_length = len(item)\n",
        "\n",
        "        if item_length > 1:\n",
        "            subsets = find_subset(item, item_length)\n",
        "\n",
        "            for A in subsets:\n",
        "                B = item.difference(A)\n",
        "\n",
        "                if B:\n",
        "                    A = frozenset(A)\n",
        "\n",
        "                    AB = A | B\n",
        "\n",
        "                    confidence = support_dict[AB] / support_dict[A]\n",
        "                    if confidence >= min_confidence:\n",
        "                        rules.append((A, B, confidence))\n",
        "\n",
        "    return rules"
      ],
      "metadata": {
        "id": "1vzOHD9APWuw"
      },
      "execution_count": null,
      "outputs": []
    },
    {
      "cell_type": "code",
      "source": [
        "association_rules = association_rules(min_confidence = 0.6, support_dict = item_support_dict)"
      ],
      "metadata": {
        "id": "OnuiDqmwPZCU"
      },
      "execution_count": null,
      "outputs": []
    },
    {
      "cell_type": "code",
      "source": [
        "print(\"Number of rules: \", len(association_rules), \"\\n\")\n",
        "\n",
        "for rule in association_rules:\n",
        "    print('{0} -> {1} < confidence : {2} >'.format(set(rule[0]), set(rule[1]), rule[2]))"
      ],
      "metadata": {
        "colab": {
          "base_uri": "https://localhost:8080/"
        },
        "id": "-ewOPBR5PlsN",
        "outputId": "c9d78248-f71b-4dbb-8a55-7a0302ef7f76"
      },
      "execution_count": null,
      "outputs": [
        {
          "output_type": "stream",
          "name": "stdout",
          "text": [
            "Number of rules:  86 \n",
            "\n",
            "{'milk'} -> {'bread'} < confidence : 0.8 >\n",
            "{'bournvita'} -> {'bread'} < confidence : 0.7499999999999999 >\n",
            "{'jam'} -> {'bread'} < confidence : 1.0 >\n",
            "{'maggi'} -> {'bread'} < confidence : 0.6 >\n",
            "{'sugar'} -> {'bread'} < confidence : 0.6666666666666667 >\n",
            "{'cock'} -> {'biscuit'} < confidence : 0.6666666666666667 >\n",
            "{'cornflakes'} -> {'coffee'} < confidence : 0.6666666666666667 >\n",
            "{'cock'} -> {'cornflakes'} < confidence : 0.6666666666666667 >\n",
            "{'jam'} -> {'maggi'} < confidence : 1.0 >\n",
            "{'maggi'} -> {'tea'} < confidence : 0.8 >\n",
            "{'cock'} -> {'coffee'} < confidence : 1.0 >\n",
            "{'sugar'} -> {'coffee'} < confidence : 0.6666666666666667 >\n",
            "{'milk', 'biscuit'} -> {'bread'} < confidence : 1.0 >\n",
            "{'cornflakes', 'bread'} -> {'milk'} < confidence : 1.0 >\n",
            "{'jam', 'milk'} -> {'bread'} < confidence : 1.0 >\n",
            "{'milk', 'maggi'} -> {'bread'} < confidence : 1.0 >\n",
            "{'tea', 'milk'} -> {'cornflakes'} < confidence : 1.0 >\n",
            "{'coffee', 'milk'} -> {'cornflakes'} < confidence : 1.0 >\n",
            "{'jam', 'milk'} -> {'maggi'} < confidence : 1.0 >\n",
            "{'milk', 'maggi'} -> {'jam'} < confidence : 1.0 >\n",
            "{'tea', 'milk'} -> {'coffee'} < confidence : 1.0 >\n",
            "{'tea', 'coffee'} -> {'milk'} < confidence : 1.0 >\n",
            "{'coffee', 'milk'} -> {'tea'} < confidence : 1.0 >\n",
            "{'cornflakes', 'bread'} -> {'biscuit'} < confidence : 1.0 >\n",
            "{'sugar', 'biscuit'} -> {'bread'} < confidence : 1.0 >\n",
            "{'tea', 'bournvita'} -> {'bread'} < confidence : 1.0 >\n",
            "{'bread', 'bournvita'} -> {'tea'} < confidence : 0.6666666666666667 >\n",
            "{'jam'} -> {'maggi', 'bread'} < confidence : 1.0 >\n",
            "{'jam', 'maggi'} -> {'bread'} < confidence : 1.0 >\n",
            "{'jam', 'bread'} -> {'maggi'} < confidence : 1.0 >\n",
            "{'maggi', 'bread'} -> {'jam'} < confidence : 0.6666666666666667 >\n",
            "{'tea', 'jam'} -> {'bread'} < confidence : 1.0 >\n",
            "{'maggi', 'bread'} -> {'tea'} < confidence : 0.6666666666666667 >\n",
            "{'cock', 'bread'} -> {'coffee'} < confidence : 1.0 >\n",
            "{'coffee', 'bread'} -> {'sugar'} < confidence : 0.6666666666666667 >\n",
            "{'coffee', 'biscuit'} -> {'cornflakes'} < confidence : 1.0 >\n",
            "{'cornflakes', 'biscuit'} -> {'coffee'} < confidence : 0.6666666666666667 >\n",
            "{'cock'} -> {'cornflakes', 'biscuit'} < confidence : 0.6666666666666667 >\n",
            "{'cock', 'cornflakes'} -> {'biscuit'} < confidence : 1.0 >\n",
            "{'cock', 'biscuit'} -> {'cornflakes'} < confidence : 1.0 >\n",
            "{'cornflakes', 'biscuit'} -> {'cock'} < confidence : 0.6666666666666667 >\n",
            "{'tea', 'biscuit'} -> {'maggi'} < confidence : 1.0 >\n",
            "{'maggi', 'biscuit'} -> {'tea'} < confidence : 1.0 >\n",
            "{'cock'} -> {'coffee', 'biscuit'} < confidence : 0.6666666666666667 >\n",
            "{'coffee', 'cock'} -> {'biscuit'} < confidence : 0.6666666666666667 >\n",
            "{'coffee', 'biscuit'} -> {'cock'} < confidence : 1.0 >\n",
            "{'cock', 'biscuit'} -> {'coffee'} < confidence : 1.0 >\n",
            "{'maggi', 'cornflakes'} -> {'tea'} < confidence : 1.0 >\n",
            "{'tea', 'coffee'} -> {'cornflakes'} < confidence : 1.0 >\n",
            "{'cock'} -> {'coffee', 'cornflakes'} < confidence : 0.6666666666666667 >\n",
            "{'coffee', 'cock'} -> {'cornflakes'} < confidence : 0.6666666666666667 >\n",
            "{'cock', 'cornflakes'} -> {'coffee'} < confidence : 1.0 >\n",
            "{'sugar', 'cornflakes'} -> {'coffee'} < confidence : 1.0 >\n",
            "{'coffee', 'bournvita'} -> {'sugar'} < confidence : 1.0 >\n",
            "{'tea', 'jam'} -> {'maggi'} < confidence : 1.0 >\n",
            "{'cornflakes', 'bread'} -> {'milk', 'biscuit'} < confidence : 1.0 >\n",
            "{'milk', 'cornflakes', 'bread'} -> {'biscuit'} < confidence : 1.0 >\n",
            "{'milk', 'cornflakes', 'biscuit'} -> {'bread'} < confidence : 1.0 >\n",
            "{'cornflakes', 'bread', 'biscuit'} -> {'milk'} < confidence : 1.0 >\n",
            "{'jam', 'milk'} -> {'maggi', 'bread'} < confidence : 1.0 >\n",
            "{'milk', 'maggi'} -> {'jam', 'bread'} < confidence : 1.0 >\n",
            "{'jam', 'milk', 'maggi'} -> {'bread'} < confidence : 1.0 >\n",
            "{'jam', 'milk', 'bread'} -> {'maggi'} < confidence : 1.0 >\n",
            "{'milk', 'maggi', 'bread'} -> {'jam'} < confidence : 1.0 >\n",
            "{'tea', 'milk'} -> {'coffee', 'cornflakes'} < confidence : 1.0 >\n",
            "{'tea', 'coffee'} -> {'milk', 'cornflakes'} < confidence : 1.0 >\n",
            "{'coffee', 'milk'} -> {'tea', 'cornflakes'} < confidence : 1.0 >\n",
            "{'tea', 'milk', 'cornflakes'} -> {'coffee'} < confidence : 1.0 >\n",
            "{'tea', 'milk', 'coffee'} -> {'cornflakes'} < confidence : 1.0 >\n",
            "{'tea', 'cornflakes', 'coffee'} -> {'milk'} < confidence : 1.0 >\n",
            "{'coffee', 'milk', 'cornflakes'} -> {'tea'} < confidence : 1.0 >\n",
            "{'tea', 'bread', 'biscuit'} -> {'maggi'} < confidence : 1.0 >\n",
            "{'maggi', 'bread', 'biscuit'} -> {'tea'} < confidence : 1.0 >\n",
            "{'tea', 'jam'} -> {'maggi', 'bread'} < confidence : 1.0 >\n",
            "{'tea', 'jam', 'maggi'} -> {'bread'} < confidence : 1.0 >\n",
            "{'tea', 'jam', 'bread'} -> {'maggi'} < confidence : 1.0 >\n",
            "{'cock'} -> {'coffee', 'cornflakes', 'biscuit'} < confidence : 0.6666666666666667 >\n",
            "{'coffee', 'cock'} -> {'cornflakes', 'biscuit'} < confidence : 0.6666666666666667 >\n",
            "{'coffee', 'biscuit'} -> {'cock', 'cornflakes'} < confidence : 1.0 >\n",
            "{'cock', 'cornflakes'} -> {'coffee', 'biscuit'} < confidence : 1.0 >\n",
            "{'cornflakes', 'biscuit'} -> {'coffee', 'cock'} < confidence : 0.6666666666666667 >\n",
            "{'cock', 'biscuit'} -> {'coffee', 'cornflakes'} < confidence : 1.0 >\n",
            "{'coffee', 'cornflakes', 'cock'} -> {'biscuit'} < confidence : 1.0 >\n",
            "{'coffee', 'cornflakes', 'biscuit'} -> {'cock'} < confidence : 1.0 >\n",
            "{'coffee', 'cock', 'biscuit'} -> {'cornflakes'} < confidence : 1.0 >\n",
            "{'cock', 'cornflakes', 'biscuit'} -> {'coffee'} < confidence : 1.0 >\n"
          ]
        }
      ]
    }
  ]
}